{
  "nbformat": 4,
  "nbformat_minor": 0,
  "metadata": {
    "colab": {
      "provenance": [],
      "authorship_tag": "ABX9TyP70OZnsIZW5iHbBp+6e1OY",
      "include_colab_link": true
    },
    "kernelspec": {
      "name": "python3",
      "display_name": "Python 3"
    },
    "language_info": {
      "name": "python"
    }
  },
  "cells": [
    {
      "cell_type": "markdown",
      "metadata": {
        "id": "view-in-github",
        "colab_type": "text"
      },
      "source": [
        "<a href=\"https://colab.research.google.com/github/mmahyoub/datascience-essentials/blob/main/prompt_engineering.ipynb\" target=\"_parent\"><img src=\"https://colab.research.google.com/assets/colab-badge.svg\" alt=\"Open In Colab\"/></a>"
      ]
    },
    {
      "cell_type": "markdown",
      "source": [
        "# Prompt Engineering"
      ],
      "metadata": {
        "id": "m59Moh5WErV9"
      }
    },
    {
      "cell_type": "markdown",
      "source": [
        "\n",
        "\n",
        "*  Introduction\n",
        "*  Fundamentals of Prompt Engineering\n",
        "*  Crafting Effective Prompts\n",
        "*  Advanced Prompt Engineering Techniques\n",
        "* Practical Application\n",
        "* Conclusions\n",
        "\n"
      ],
      "metadata": {
        "id": "fvvOoPbsExHo"
      }
    },
    {
      "cell_type": "code",
      "execution_count": null,
      "metadata": {
        "id": "jgpGEo4vC3BH"
      },
      "outputs": [],
      "source": []
    }
  ]
}